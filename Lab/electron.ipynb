{
 "cells": [
  {
   "cell_type": "code",
   "execution_count": 2,
   "metadata": {
    "collapsed": false
   },
   "outputs": [
    {
     "name": "stdout",
     "output_type": "stream",
     "text": [
      "Populating the interactive namespace from numpy and matplotlib\n"
     ]
    }
   ],
   "source": [
    "%pylab inline \n",
    "import numpy as np \n",
    "import matplotlib.pyplot as plt\n",
    "\n",
    "h=0.2*10**(-5)\n",
    "min_t = 0.0\n",
    "max_t = 6.0\n",
    "n_puntos = int((max_t-min_t)/h)\n",
    "t = np.zeros(n_puntos)\n",
    "x = np.zeros(n_puntos)\n",
    "y = np.zeros(n_puntos)\n",
    "vx = np.zeros(n_puntos)\n",
    "vy = np.zeros(n_puntos)\n",
    "qm = -1.76*10**11\n",
    "B = 10**(-5)\n",
    "e = 9*10**(-12)\n",
    "l = -10**(-12)"
   ]
  },
  {
   "cell_type": "code",
   "execution_count": 4,
   "metadata": {
    "collapsed": false
   },
   "outputs": [
    {
     "name": "stderr",
     "output_type": "stream",
     "text": [
      "/home/juan/anaconda3/lib/python3.6/site-packages/ipykernel/__main__.py:13: RuntimeWarning: overflow encountered in double_scalars\n",
      "/home/juan/anaconda3/lib/python3.6/site-packages/ipykernel/__main__.py:6: RuntimeWarning: overflow encountered in double_scalars\n",
      "/home/juan/anaconda3/lib/python3.6/site-packages/ipykernel/__main__.py:66: RuntimeWarning: overflow encountered in double_scalars\n",
      "/home/juan/anaconda3/lib/python3.6/site-packages/ipykernel/__main__.py:33: RuntimeWarning: invalid value encountered in double_scalars\n",
      "/home/juan/anaconda3/lib/python3.6/site-packages/ipykernel/__main__.py:13: RuntimeWarning: invalid value encountered in double_scalars\n",
      "/home/juan/anaconda3/lib/python3.6/site-packages/ipykernel/__main__.py:6: RuntimeWarning: invalid value encountered in double_scalars\n"
     ]
    },
    {
     "data": {
      "image/png": "[encoded data removed]",
      "text/plain": [
       "<matplotlib.figure.Figure at 0x7f92fbf78940>"
      ]
     },
     "metadata": {},
     "output_type": "display_data"
    }
   ],
   "source": [
    "def vxprima(t, vy, x, y):\n",
    "    qm = -1.76*10**11\n",
    "    B = 10**(-5)\n",
    "    e = 9*10**(-12)\n",
    "    l = -10**(-12)\n",
    "    return (qm*B*vy)+ ((qm*l*x)/(2*np.pi*e*(x**2 + y**2)))\n",
    "\n",
    "def vyprima(t, vx, x, y):\n",
    "    qm = -1.76*10**11\n",
    "    B = 10**(-5)\n",
    "    e = 9*10**(-12)\n",
    "    l = -10**(-12)\n",
    "    return (qm*B*vx)+ ((qm*l*y)/(2*np.pi*e*(x*2 + y**2)))\n",
    "\n",
    "def xprima(vx, x, y):\n",
    "    return vx\n",
    "\n",
    "def yprima(vy, x, y):\n",
    "    return vy\n",
    "\n",
    "def Rkutta4(t0, y0, vy0, x0, vx0):\n",
    "    \n",
    "    kx = xprima(vx0, x0, y0)\n",
    "    kx_2 = vxprima(t0, vy0, x0, y0)\n",
    "    ky = yprima(vy0, x0, y0) \n",
    "    ky_2 = vyprima(t0, vx0, x0, y0)\n",
    "                      \n",
    "    #priemro paso\n",
    "    t1 = t0+ (h/2.0)\n",
    "    y_1 = y0 + (h/2.0) * ky\n",
    "    vy_1 = vy0 + (h/2.0) * ky_2\n",
    "    x_1 = x0 + (h/2.0) * kx\n",
    "    vx_1 = vy0 + (h/2.0) * kx_2\n",
    "    ky2_1 = yprima(t1, y_1, vy_1)\n",
    "    ky2_p = vyprima(t1, vx_1, x_1, y_1)\n",
    "    kx2_1 = xprima(t1, x_1, vx_1)\n",
    "    kx2_p= vxprima(t1, vy_1, x_1, y_1)\n",
    "    \n",
    "    #segundo paso\n",
    "    t2 = t0 + (h/2.0)\n",
    "    y_2 = y0 + (h/2.0) * ky2_1\n",
    "    vy_2 = vy0 + (h/2.0) * ky2_p\n",
    "    x_2 = x0 + (h/2.0) * ky2_1\n",
    "    vx_2 = vx0 + (h/2.0) * ky2_p\n",
    "    ky3_1 = yprima(t2, y_2, vy_2)\n",
    "    ky3_2 = vyprima(t2, vx_2, x_2, y_2)\n",
    "    kx3_1 = xprima(t2, x_2, vx_2)\n",
    "    kx3_2 = vxprima(t2, vy_2, x_2, y_2)\n",
    "    \n",
    "    \n",
    "    #tercer paso\n",
    "    t3 = x0 + h\n",
    "    y_3 = y0 + h * ky3_1\n",
    "    vy_3 = vy0 + h * ky3_2\n",
    "    x_3 = x0 + h * kx3_1\n",
    "    vx_3 = vx0 + h * kx3_2\n",
    "    k_4_yprime = yprima(t3, y_3, vy_3)\n",
    "    k_4_vyprime = vyprima(t3, vx_3, x_3, y_3)\n",
    "    k_4_xprime = xprima(t3, x_3, vx_3)\n",
    "    k_4_vxprime = vxprima(t3, vy_3, x_3, y_3)\n",
    "    \n",
    "    #fourth step\n",
    "    promediok1 = (1.0/6.0)*(ky + 2.0*ky2_1 + 2.0*ky3_1 + k_4_yprime)\n",
    "    promediok2 = (1.0/6.0)*(ky_2 + 2.0*ky2_p + 2.0*ky3_2 + k_4_vyprime)\n",
    "    promediok3 = (1.0/6.0)*(kx + 2.0*kx2_1 + 2.0*kx3_1 + k_4_xprime)\n",
    "    promediok4 = (1.0/6.0)*(kx_2 + 2.0*kx2_p + 2.0*kx3_2 + k_4_vxprime)\n",
    "    \n",
    "    t = t0 + h\n",
    "    y = y0 + h * promediok1\n",
    "    vy= vy0 + h * promediok2\n",
    "    x = x0 + h * promediok3\n",
    "    vx= vx0 + h * promediok4\n",
    "    return t, y, vy, x, vx\n",
    "    \n",
    "t[0] = min_t\n",
    "x[0] = 2.0\n",
    "y[0] = 2.0\n",
    "vx[0] = 0.0\n",
    "vy[0] = -3000    \n",
    "\n",
    "for i in range(1,n_puntos):\n",
    "    t[i],y[i],vy[i],x[i],vx[i] = Rkutta4(t[i-1], y[i-1], vy[i-1], x[i-1], vx[i-1])\n",
    "    \n",
    "plt.plot(y, x, 'ko')\n",
    "plt.xlabel('x')\n",
    "plt.ylabel('y(x)')\n",
    "plt.show()"
   ]
  }
 ],
 "metadata": {
  "kernelspec": {
   "display_name": "Python 3",
   "language": "python",
   "name": "python3"
  },
  "language_info": {
   "codemirror_mode": {
    "name": "ipython",
    "version": 3
   },
   "file_extension": ".py",
   "mimetype": "text/x-python",
   "name": "python",
   "nbconvert_exporter": "python",
   "pygments_lexer": "ipython3",
   "version": "3.6.0"
  }
 },
 "nbformat": 4,
 "nbformat_minor": 2
}
